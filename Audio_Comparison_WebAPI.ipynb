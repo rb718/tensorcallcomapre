{
  "nbformat": 4,
  "nbformat_minor": 0,
  "metadata": {
    "kernelspec": {
      "display_name": "Python 3",
      "language": "python",
      "name": "python3"
    },
    "language_info": {
      "codemirror_mode": {
        "name": "ipython",
        "version": 3
      },
      "file_extension": ".py",
      "mimetype": "text/x-python",
      "name": "python",
      "nbconvert_exporter": "python",
      "pygments_lexer": "ipython3",
      "version": "3.6.6"
    },
    "colab": {
      "name": "Audio_Comparison_WebAPI.ipynb",
      "provenance": [],
      "collapsed_sections": []
    }
  },
  "cells": [
    {
      "cell_type": "code",
      "metadata": {
        "id": "ZzScg6uday0o",
        "colab_type": "code",
        "colab": {
          "base_uri": "https://localhost:8080/",
          "height": 156
        },
        "outputId": "58f4df9f-caf4-4c66-9de4-2c9bad556d60"
      },
      "source": [
        "!apt-get install -y ffmpeg"
      ],
      "execution_count": 1,
      "outputs": [
        {
          "output_type": "stream",
          "text": [
            "Reading package lists... Done\n",
            "Building dependency tree       \n",
            "Reading state information... Done\n",
            "ffmpeg is already the newest version (7:3.4.6-0ubuntu0.18.04.1).\n",
            "The following package was automatically installed and is no longer required:\n",
            "  libnvidia-common-430\n",
            "Use 'apt autoremove' to remove it.\n",
            "0 upgraded, 0 newly installed, 0 to remove and 25 not upgraded.\n"
          ],
          "name": "stdout"
        }
      ]
    },
    {
      "cell_type": "code",
      "metadata": {
        "id": "JBHs3tmnMbQf",
        "colab_type": "code",
        "outputId": "7e4802b5-e91b-4a78-9c1b-946c769e868f",
        "colab": {
          "base_uri": "https://localhost:8080/",
          "height": 540
        }
      },
      "source": [
        "!ffmpeg -i 1.mp3 -acodec pcm_s16le -ac 1 -ar 16000 out1.wav"
      ],
      "execution_count": 14,
      "outputs": [
        {
          "output_type": "stream",
          "text": [
            "ffmpeg version 3.4.6-0ubuntu0.18.04.1 Copyright (c) 2000-2019 the FFmpeg developers\n",
            "  built with gcc 7 (Ubuntu 7.3.0-16ubuntu3)\n",
            "  configuration: --prefix=/usr --extra-version=0ubuntu0.18.04.1 --toolchain=hardened --libdir=/usr/lib/x86_64-linux-gnu --incdir=/usr/include/x86_64-linux-gnu --enable-gpl --disable-stripping --enable-avresample --enable-avisynth --enable-gnutls --enable-ladspa --enable-libass --enable-libbluray --enable-libbs2b --enable-libcaca --enable-libcdio --enable-libflite --enable-libfontconfig --enable-libfreetype --enable-libfribidi --enable-libgme --enable-libgsm --enable-libmp3lame --enable-libmysofa --enable-libopenjpeg --enable-libopenmpt --enable-libopus --enable-libpulse --enable-librubberband --enable-librsvg --enable-libshine --enable-libsnappy --enable-libsoxr --enable-libspeex --enable-libssh --enable-libtheora --enable-libtwolame --enable-libvorbis --enable-libvpx --enable-libwavpack --enable-libwebp --enable-libx265 --enable-libxml2 --enable-libxvid --enable-libzmq --enable-libzvbi --enable-omx --enable-openal --enable-opengl --enable-sdl2 --enable-libdc1394 --enable-libdrm --enable-libiec61883 --enable-chromaprint --enable-frei0r --enable-libopencv --enable-libx264 --enable-shared\n",
            "  libavutil      55. 78.100 / 55. 78.100\n",
            "  libavcodec     57.107.100 / 57.107.100\n",
            "  libavformat    57. 83.100 / 57. 83.100\n",
            "  libavdevice    57. 10.100 / 57. 10.100\n",
            "  libavfilter     6.107.100 /  6.107.100\n",
            "  libavresample   3.  7.  0 /  3.  7.  0\n",
            "  libswscale      4.  8.100 /  4.  8.100\n",
            "  libswresample   2.  9.100 /  2.  9.100\n",
            "  libpostproc    54.  7.100 / 54.  7.100\n",
            "\u001b[0;35m[mp3 @ 0x55741f8c4000] \u001b[0m\u001b[0;33mFormat mp3 detected only with low score of 25, misdetection possible!\n",
            "\u001b[0m\u001b[0;35m[mp3 @ 0x55741f8c4000] \u001b[0mSkipping 255 bytes of junk at 0.\n",
            "\u001b[0;35m[mp3 @ 0x55741f8c4000] \u001b[0m\u001b[0;33mEstimating duration from bitrate, this may be inaccurate\n",
            "\u001b[0mInput #0, mp3, from '1.mp3':\n",
            "  Duration: 00:00:09.65, start: 0.000000, bitrate: 16 kb/s\n",
            "    Stream #0:0: Audio: mp3, 8000 Hz, mono, s16p, 16 kb/s\n",
            "Stream mapping:\n",
            "  Stream #0:0 -> #0:0 (mp3 (native) -> pcm_s16le (native))\n",
            "Press [q] to stop, [?] for help\n",
            "Output #0, wav, to 'out1.wav':\n",
            "  Metadata:\n",
            "    ISFT            : Lavf57.83.100\n",
            "    Stream #0:0: Audio: pcm_s16le ([1][0][0][0] / 0x0001), 16000 Hz, mono, s16, 256 kb/s\n",
            "    Metadata:\n",
            "      encoder         : Lavc57.107.100 pcm_s16le\n",
            "size=     302kB time=00:00:09.64 bitrate= 256.1kbits/s speed=1.72e+03x    \n",
            "video:0kB audio:302kB subtitle:0kB other streams:0kB global headers:0kB muxing overhead: 0.025264%\n"
          ],
          "name": "stdout"
        }
      ]
    },
    {
      "cell_type": "code",
      "metadata": {
        "id": "P9XEumj6NUsR",
        "colab_type": "code",
        "outputId": "9b5a4fa1-2d7e-436f-a96a-b6f42f943488",
        "colab": {
          "base_uri": "https://localhost:8080/",
          "height": 523
        }
      },
      "source": [
        "!ffmpeg -i 2.mp3 -acodec pcm_s16le -ac 1 -ar 16000 out2.wav"
      ],
      "execution_count": 15,
      "outputs": [
        {
          "output_type": "stream",
          "text": [
            "ffmpeg version 3.4.6-0ubuntu0.18.04.1 Copyright (c) 2000-2019 the FFmpeg developers\n",
            "  built with gcc 7 (Ubuntu 7.3.0-16ubuntu3)\n",
            "  configuration: --prefix=/usr --extra-version=0ubuntu0.18.04.1 --toolchain=hardened --libdir=/usr/lib/x86_64-linux-gnu --incdir=/usr/include/x86_64-linux-gnu --enable-gpl --disable-stripping --enable-avresample --enable-avisynth --enable-gnutls --enable-ladspa --enable-libass --enable-libbluray --enable-libbs2b --enable-libcaca --enable-libcdio --enable-libflite --enable-libfontconfig --enable-libfreetype --enable-libfribidi --enable-libgme --enable-libgsm --enable-libmp3lame --enable-libmysofa --enable-libopenjpeg --enable-libopenmpt --enable-libopus --enable-libpulse --enable-librubberband --enable-librsvg --enable-libshine --enable-libsnappy --enable-libsoxr --enable-libspeex --enable-libssh --enable-libtheora --enable-libtwolame --enable-libvorbis --enable-libvpx --enable-libwavpack --enable-libwebp --enable-libx265 --enable-libxml2 --enable-libxvid --enable-libzmq --enable-libzvbi --enable-omx --enable-openal --enable-opengl --enable-sdl2 --enable-libdc1394 --enable-libdrm --enable-libiec61883 --enable-chromaprint --enable-frei0r --enable-libopencv --enable-libx264 --enable-shared\n",
            "  libavutil      55. 78.100 / 55. 78.100\n",
            "  libavcodec     57.107.100 / 57.107.100\n",
            "  libavformat    57. 83.100 / 57. 83.100\n",
            "  libavdevice    57. 10.100 / 57. 10.100\n",
            "  libavfilter     6.107.100 /  6.107.100\n",
            "  libavresample   3.  7.  0 /  3.  7.  0\n",
            "  libswscale      4.  8.100 /  4.  8.100\n",
            "  libswresample   2.  9.100 /  2.  9.100\n",
            "  libpostproc    54.  7.100 / 54.  7.100\n",
            "\u001b[0;35m[mp3 @ 0x55a1b5d4e000] \u001b[0mSkipping 255 bytes of junk at 0.\n",
            "\u001b[0;35m[mp3 @ 0x55a1b5d4e000] \u001b[0m\u001b[0;33mEstimating duration from bitrate, this may be inaccurate\n",
            "\u001b[0mInput #0, mp3, from '2.mp3':\n",
            "  Duration: 00:00:23.83, start: 0.000000, bitrate: 16 kb/s\n",
            "    Stream #0:0: Audio: mp3, 8000 Hz, mono, s16p, 16 kb/s\n",
            "Stream mapping:\n",
            "  Stream #0:0 -> #0:0 (mp3 (native) -> pcm_s16le (native))\n",
            "Press [q] to stop, [?] for help\n",
            "Output #0, wav, to 'out2.wav':\n",
            "  Metadata:\n",
            "    ISFT            : Lavf57.83.100\n",
            "    Stream #0:0: Audio: pcm_s16le ([1][0][0][0] / 0x0001), 16000 Hz, mono, s16, 256 kb/s\n",
            "    Metadata:\n",
            "      encoder         : Lavc57.107.100 pcm_s16le\n",
            "size=     745kB time=00:00:23.83 bitrate= 256.0kbits/s speed=1.99e+03x    \n",
            "video:0kB audio:745kB subtitle:0kB other streams:0kB global headers:0kB muxing overhead: 0.010228%\n"
          ],
          "name": "stdout"
        }
      ]
    },
    {
      "cell_type": "code",
      "metadata": {
        "id": "hgFFszrxNm1G",
        "colab_type": "code",
        "colab": {
          "base_uri": "https://localhost:8080/",
          "height": 124
        },
        "outputId": "ad98de98-c703-4581-8312-30c3334ace58"
      },
      "source": [
        "!pip install SpeechRecognition"
      ],
      "execution_count": 5,
      "outputs": [
        {
          "output_type": "stream",
          "text": [
            "Collecting SpeechRecognition\n",
            "\u001b[?25l  Downloading https://files.pythonhosted.org/packages/26/e1/7f5678cd94ec1234269d23756dbdaa4c8cfaed973412f88ae8adf7893a50/SpeechRecognition-3.8.1-py2.py3-none-any.whl (32.8MB)\n",
            "\u001b[K     |████████████████████████████████| 32.8MB 122kB/s \n",
            "\u001b[?25hInstalling collected packages: SpeechRecognition\n",
            "Successfully installed SpeechRecognition-3.8.1\n"
          ],
          "name": "stdout"
        }
      ]
    },
    {
      "cell_type": "code",
      "metadata": {
        "id": "DQFYXtXDcaVt",
        "colab_type": "code",
        "colab": {
          "base_uri": "https://localhost:8080/",
          "height": 107
        },
        "outputId": "4495c1c0-8299-4bd9-9953-baefdd5e9666"
      },
      "source": [
        "!pip install pydub"
      ],
      "execution_count": 10,
      "outputs": [
        {
          "output_type": "stream",
          "text": [
            "Collecting pydub\n",
            "  Downloading https://files.pythonhosted.org/packages/79/db/eaf620b73a1eec3c8c6f8f5b0b236a50f9da88ad57802154b7ba7664d0b8/pydub-0.23.1-py2.py3-none-any.whl\n",
            "Installing collected packages: pydub\n",
            "Successfully installed pydub-0.23.1\n"
          ],
          "name": "stdout"
        }
      ]
    },
    {
      "cell_type": "code",
      "metadata": {
        "id": "_iGuabqIbBhc",
        "colab_type": "code",
        "colab": {}
      },
      "source": [
        "# Import necessary libraries \n",
        "from pydub import AudioSegment \n",
        "import speech_recognition as sr "
      ],
      "execution_count": 0,
      "outputs": []
    },
    {
      "cell_type": "code",
      "metadata": {
        "id": "CFSoN9QWbBXG",
        "colab_type": "code",
        "colab": {
          "base_uri": "https://localhost:8080/",
          "height": 69
        },
        "outputId": "5051a10e-9bb8-46a7-d73c-b51a100b2694"
      },
      "source": [
        "# Input audio file to be sliced \n",
        "audio = AudioSegment.from_wav(\"/content/out1.wav\") \n",
        "\n",
        "''' \n",
        "Step #1 - Slicing the audio file into smaller chunks. \n",
        "'''\n",
        "# Length of the audiofile in milliseconds \n",
        "n = len(audio) \n",
        "\n",
        "# Variable to count the number of sliced chunks \n",
        "counter = 1\n",
        "\n",
        "# Text file to write the recognized audio \n",
        "fh = open(\"recognized1.txt\", \"w+\") \n",
        "\n",
        "# Interval length at which to slice the audio file. \n",
        "# If length is 22 seconds, and interval is 5 seconds, \n",
        "# The chunks created will be: \n",
        "# chunk1 : 0 - 5 seconds \n",
        "# chunk2 : 5 - 10 seconds \n",
        "# chunk3 : 10 - 15 seconds \n",
        "# chunk4 : 15 - 20 seconds \n",
        "# chunk5 : 20 - 22 seconds \n",
        "interval = 5 * 1000\n",
        "\n",
        "# Length of audio to overlap. \n",
        "# If length is 22 seconds, and interval is 5 seconds, \n",
        "# With overlap as 1.5 seconds, \n",
        "# The chunks created will be: \n",
        "# chunk1 : 0 - 5 seconds \n",
        "# chunk2 : 3.5 - 8.5 seconds \n",
        "# chunk3 : 7 - 12 seconds \n",
        "# chunk4 : 10.5 - 15.5 seconds \n",
        "# chunk5 : 14 - 19.5 seconds \n",
        "# chunk6 : 18 - 22 seconds \n",
        "overlap = 1.5 * 0  #creating overlap equals to zero\n",
        "\n",
        "# Initialize start and end seconds to 0 \n",
        "start = 0\n",
        "end = 0\n",
        "\n",
        "# Flag to keep track of end of file. \n",
        "# When audio reaches its end, flag is set to 1 and we break \n",
        "flag = 0\n",
        "\n",
        "# Iterate from 0 to end of the file, \n",
        "# with increment = interval \n",
        "for i in range(0, 2 * n, interval): \n",
        "\t\n",
        "\t# During first iteration, \n",
        "\t# start is 0, end is the interval \n",
        "\tif i == 0: \n",
        "\t\tstart = 0\n",
        "\t\tend = interval \n",
        "\n",
        "\t# All other iterations, \n",
        "\t# start is the previous end - overlap \n",
        "\t# end becomes end + interval \n",
        "\telse: \n",
        "\t\tstart = end - overlap \n",
        "\t\tend = start + interval \n",
        "\n",
        "\t# When end becomes greater than the file length, \n",
        "\t# end is set to the file length \n",
        "\t# flag is set to 1 to indicate break. \n",
        "\tif end >= n: \n",
        "\t\tend = n \n",
        "\t\tflag = 1\n",
        "\n",
        "\t# Storing audio file from the defined start to end \n",
        "\tchunk = audio[start:end] \n",
        "\n",
        "\t# Filename / Path to store the sliced audio \n",
        "\tfilename = 'a'+str(counter)+'.wav'\n",
        "\n",
        "\t# Store the sliced audio file to the defined path \n",
        "\tchunk.export(filename, format =\"wav\") \n",
        "\t# Print information about the current chunk \n",
        "\tprint(\"Processing chunk \"+str(counter)+\". Start = \"\n",
        "\t\t\t\t\t\t+str(start)+\" end = \"+str(end)) \n",
        "\n",
        "\t# Increment counter for the next chunk \n",
        "\tcounter = counter + 1\n",
        "\t\n",
        "\t# Slicing of the audio file is done. \n",
        "\t# Skip the below steps if there is some other usage \n",
        "\t# for the sliced audio files. \n",
        "\n",
        "  #''' \n",
        "  #Step #2 - Recognizing the chunk and writing to a file. \n",
        "  #'''\n",
        "\n",
        "\t# Here, Google Speech Recognition is used \n",
        "\t# to take each chunk and recognize the text in it. \n",
        "\n",
        "\t# Specify the audio file to recognize \n",
        "\n",
        "\tAUDIO_FILE = filename \n",
        "\n",
        "\t# Initialize the recognizer \n",
        "\tr = sr.Recognizer() \n",
        "\n",
        "\t# Traverse the audio file and listen to the audio \n",
        "\twith sr.AudioFile(AUDIO_FILE) as source: \n",
        "\t\taudio_listened = r.listen(source) \n",
        "\n",
        "\t# Try to recognize the listened audio \n",
        "\t# And catch expections. \n",
        "\ttry:\t \n",
        "\t\trec = r.recognize_google(audio_listened) \n",
        "\t\t\n",
        "\t\t# If recognized, write into the file. \n",
        "\t\tfh.write(rec+\" \") \n",
        "\t\n",
        "\t# If google could not understand the audio \n",
        "\texcept sr.UnknownValueError: \n",
        "\t\tprint(\"Could not understand audio\") \n",
        "\n",
        "\t# If the results cannot be requested from Google. \n",
        "\t# Probably an internet connection error. \n",
        "\texcept sr.RequestError as e: \n",
        "\t\tprint(\"Could not request results.\") \n",
        "\n",
        "\t# Check for flag. \n",
        "\t# If flag is 1, end of the whole audio reached. \n",
        "\t# Close the file and break. \n",
        "\tif flag == 1: \n",
        "\t\tfh.close() \n",
        "\t\tbreak"
      ],
      "execution_count": 16,
      "outputs": [
        {
          "output_type": "stream",
          "text": [
            "Processing chunk 1. Start = 0 end = 5000\n",
            "Processing chunk 2. Start = 5000.0 end = 9648\n",
            "Could not understand audio\n"
          ],
          "name": "stdout"
        }
      ]
    },
    {
      "cell_type": "code",
      "metadata": {
        "id": "T2O5SdlIbBLw",
        "colab_type": "code",
        "colab": {
          "base_uri": "https://localhost:8080/",
          "height": 104
        },
        "outputId": "45085e7c-c761-4570-a21f-521a86f00bd2"
      },
      "source": [
        "# Input audio file to be sliced \n",
        "audio = AudioSegment.from_wav(\"/content/out2.wav\") \n",
        "\n",
        "''' \n",
        "Step #1 - Slicing the audio file into smaller chunks. \n",
        "'''\n",
        "# Length of the audiofile in milliseconds \n",
        "n = len(audio) \n",
        "\n",
        "# Variable to count the number of sliced chunks \n",
        "counter = 1\n",
        "\n",
        "# Text file to write the recognized audio \n",
        "fh = open(\"recognized2.txt\", \"w+\") \n",
        "\n",
        "# Interval length at which to slice the audio file. \n",
        "# If length is 22 seconds, and interval is 5 seconds, \n",
        "# The chunks created will be: \n",
        "# chunk1 : 0 - 5 seconds \n",
        "# chunk2 : 5 - 10 seconds \n",
        "# chunk3 : 10 - 15 seconds \n",
        "# chunk4 : 15 - 20 seconds \n",
        "# chunk5 : 20 - 22 seconds \n",
        "interval = 5 * 1000\n",
        "\n",
        "# Length of audio to overlap. \n",
        "# If length is 22 seconds, and interval is 5 seconds, \n",
        "# With overlap as 1.5 seconds, \n",
        "# The chunks created will be: \n",
        "# chunk1 : 0 - 5 seconds \n",
        "# chunk2 : 3.5 - 8.5 seconds \n",
        "# chunk3 : 7 - 12 seconds \n",
        "# chunk4 : 10.5 - 15.5 seconds \n",
        "# chunk5 : 14 - 19.5 seconds \n",
        "# chunk6 : 18 - 22 seconds \n",
        "overlap = 1.5 * 0  #creating overlap equals to zero\n",
        "\n",
        "# Initialize start and end seconds to 0 \n",
        "start = 0\n",
        "end = 0\n",
        "\n",
        "# Flag to keep track of end of file. \n",
        "# When audio reaches its end, flag is set to 1 and we break \n",
        "flag = 0\n",
        "\n",
        "# Iterate from 0 to end of the file, \n",
        "# with increment = interval \n",
        "for i in range(0, 2 * n, interval): \n",
        "\t\n",
        "\t# During first iteration, \n",
        "\t# start is 0, end is the interval \n",
        "\tif i == 0: \n",
        "\t\tstart = 0\n",
        "\t\tend = interval \n",
        "\n",
        "\t# All other iterations, \n",
        "\t# start is the previous end - overlap \n",
        "\t# end becomes end + interval \n",
        "\telse: \n",
        "\t\tstart = end - overlap \n",
        "\t\tend = start + interval \n",
        "\n",
        "\t# When end becomes greater than the file length, \n",
        "\t# end is set to the file length \n",
        "\t# flag is set to 1 to indicate break. \n",
        "\tif end >= n: \n",
        "\t\tend = n \n",
        "\t\tflag = 1\n",
        "\n",
        "\t# Storing audio file from the defined start to end \n",
        "\tchunk = audio[start:end] \n",
        "\n",
        "\t# Filename / Path to store the sliced audio \n",
        "\tfilename = 'b'+str(counter)+'.wav'\n",
        "\n",
        "\t# Store the sliced audio file to the defined path \n",
        "\tchunk.export(filename, format =\"wav\") \n",
        "\t# Print information about the current chunk \n",
        "\tprint(\"Processing chunk \"+str(counter)+\". Start = \"\n",
        "\t\t\t\t\t\t+str(start)+\" end = \"+str(end)) \n",
        "\n",
        "\t# Increment counter for the next chunk \n",
        "\tcounter = counter + 1\n",
        "\t\n",
        "\t# Slicing of the audio file is done. \n",
        "\t# Skip the below steps if there is some other usage \n",
        "\t# for the sliced audio files. \n",
        "\n",
        "  #''' \n",
        "  #Step #2 - Recognizing the chunk and writing to a file. \n",
        "  #'''\n",
        "\n",
        "\t# Here, Google Speech Recognition is used \n",
        "\t# to take each chunk and recognize the text in it. \n",
        "\n",
        "\t# Specify the audio file to recognize \n",
        "\n",
        "\tAUDIO_FILE = filename \n",
        "\n",
        "\t# Initialize the recognizer \n",
        "\tr = sr.Recognizer() \n",
        "\n",
        "\t# Traverse the audio file and listen to the audio \n",
        "\twith sr.AudioFile(AUDIO_FILE) as source: \n",
        "\t\taudio_listened = r.listen(source) \n",
        "\n",
        "\t# Try to recognize the listened audio \n",
        "\t# And catch expections. \n",
        "\ttry:\t \n",
        "\t\trec = r.recognize_google(audio_listened) \n",
        "\t\t\n",
        "\t\t# If recognized, write into the file. \n",
        "\t\tfh.write(rec+\" \") \n",
        "\t\n",
        "\t# If google could not understand the audio \n",
        "\texcept sr.UnknownValueError: \n",
        "\t\tprint(\"Could not understand audio\") \n",
        "\n",
        "\t# If the results cannot be requested from Google. \n",
        "\t# Probably an internet connection error. \n",
        "\texcept sr.RequestError as e: \n",
        "\t\tprint(\"Could not request results.\") \n",
        "\n",
        "\t# Check for flag. \n",
        "\t# If flag is 1, end of the whole audio reached. \n",
        "\t# Close the file and break. \n",
        "\tif flag == 1: \n",
        "\t\tfh.close() \n",
        "\t\tbreak"
      ],
      "execution_count": 17,
      "outputs": [
        {
          "output_type": "stream",
          "text": [
            "Processing chunk 1. Start = 0 end = 5000\n",
            "Processing chunk 2. Start = 5000.0 end = 10000.0\n",
            "Processing chunk 3. Start = 10000.0 end = 15000.0\n",
            "Processing chunk 4. Start = 15000.0 end = 20000.0\n",
            "Processing chunk 5. Start = 20000.0 end = 23832\n"
          ],
          "name": "stdout"
        }
      ]
    },
    {
      "cell_type": "code",
      "metadata": {
        "id": "11CJvuq4NoOg",
        "colab_type": "code",
        "colab": {}
      },
      "source": [
        "sentence_1 = \"\"\n",
        "with open('recognized1.txt', 'r') as fh:\n",
        "    for line in fh:\n",
        "        sentence_1 = sentence_1 + \" \" + line"
      ],
      "execution_count": 0,
      "outputs": []
    },
    {
      "cell_type": "code",
      "metadata": {
        "id": "zw4EE6j2ObDD",
        "colab_type": "code",
        "colab": {}
      },
      "source": [
        "sentence_2 = \"\"\n",
        "with open('recognized2.txt', 'r') as fh:\n",
        "    for line in fh:\n",
        "        sentence_2 = sentence_2 + \" \" + line"
      ],
      "execution_count": 0,
      "outputs": []
    },
    {
      "cell_type": "code",
      "metadata": {
        "id": "9FdYnv_HW52t",
        "colab_type": "code",
        "colab": {}
      },
      "source": [
        ""
      ],
      "execution_count": 0,
      "outputs": []
    },
    {
      "cell_type": "code",
      "metadata": {
        "id": "yBdp4mKfO8Or",
        "colab_type": "code",
        "outputId": "dc07f7ea-d2fe-4bff-d17d-793f0dada888",
        "colab": {
          "base_uri": "https://localhost:8080/",
          "height": 81
        }
      },
      "source": [
        "import tensorflow as tf\n",
        "import tensorflow_hub as hub"
      ],
      "execution_count": 22,
      "outputs": [
        {
          "output_type": "display_data",
          "data": {
            "text/html": [
              "<p style=\"color: red;\">\n",
              "The default version of TensorFlow in Colab will soon switch to TensorFlow 2.x.<br>\n",
              "We recommend you <a href=\"https://www.tensorflow.org/guide/migrate\" target=\"_blank\">upgrade</a> now \n",
              "or ensure your notebook will continue to use TensorFlow 1.x via the <code>%tensorflow_version 1.x</code> magic:\n",
              "<a href=\"https://colab.research.google.com/notebooks/tensorflow_version.ipynb\" target=\"_blank\">more info</a>.</p>\n"
            ],
            "text/plain": [
              "<IPython.core.display.HTML object>"
            ]
          },
          "metadata": {
            "tags": []
          }
        }
      ]
    },
    {
      "cell_type": "code",
      "metadata": {
        "id": "LgH6I2vLO_Q5",
        "colab_type": "code",
        "colab": {}
      },
      "source": [
        "import numpy as np\n",
        "import pandas as pd\n",
        "import matplotlib.pyplot as plt\n",
        "%matplotlib inline"
      ],
      "execution_count": 0,
      "outputs": []
    },
    {
      "cell_type": "code",
      "metadata": {
        "id": "eFsFmUcqPA9U",
        "colab_type": "code",
        "colab": {}
      },
      "source": [
        "module_url = \"https://tfhub.dev/google/universal-sentence-encoder/1?tf-hub-format=compressed\"\n",
        "# Import the Universal Sentence Encoder's TF Hub module\n",
        "embed = hub.Module(module_url)"
      ],
      "execution_count": 0,
      "outputs": []
    },
    {
      "cell_type": "code",
      "metadata": {
        "id": "wWSfxAzoPCs6",
        "colab_type": "code",
        "colab": {}
      },
      "source": [
        "messages = [sentence_1, sentence_2]"
      ],
      "execution_count": 0,
      "outputs": []
    },
    {
      "cell_type": "code",
      "metadata": {
        "id": "0gKt2LNsPJkI",
        "colab_type": "code",
        "outputId": "5a10500b-964c-438c-e824-bd32625d1ea0",
        "colab": {
          "base_uri": "https://localhost:8080/",
          "height": 52
        }
      },
      "source": [
        "similarity_input_placeholder = tf.placeholder(tf.string, shape=(None))\n",
        "similarity_message_encodings = embed(similarity_input_placeholder)"
      ],
      "execution_count": 27,
      "outputs": [
        {
          "output_type": "stream",
          "text": [
            "INFO:tensorflow:Saver not created because there are no variables in the graph to restore\n"
          ],
          "name": "stdout"
        },
        {
          "output_type": "stream",
          "text": [
            "INFO:tensorflow:Saver not created because there are no variables in the graph to restore\n"
          ],
          "name": "stderr"
        }
      ]
    },
    {
      "cell_type": "code",
      "metadata": {
        "id": "qAKZJq2APLnd",
        "colab_type": "code",
        "outputId": "d5dd3dd8-b449-40e8-8470-07ab660ec82b",
        "colab": {
          "base_uri": "https://localhost:8080/",
          "height": 35
        }
      },
      "source": [
        "with tf.Session() as session:\n",
        "    session.run(tf.global_variables_initializer())\n",
        "    session.run(tf.tables_initializer())\n",
        "    message_embeddings_ = session.run(similarity_message_encodings, feed_dict={similarity_input_placeholder: messages})\n",
        "\n",
        "    corr = np.inner(message_embeddings_, message_embeddings_)\n",
        "    print(corr[0][1])"
      ],
      "execution_count": 28,
      "outputs": [
        {
          "output_type": "stream",
          "text": [
            "0.45126766\n"
          ],
          "name": "stdout"
        }
      ]
    },
    {
      "cell_type": "code",
      "metadata": {
        "id": "KbaZzTKlPSqx",
        "colab_type": "code",
        "colab": {}
      },
      "source": [
        ""
      ],
      "execution_count": 0,
      "outputs": []
    }
  ]
}