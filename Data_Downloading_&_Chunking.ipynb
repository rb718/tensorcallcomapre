{
  "nbformat": 4,
  "nbformat_minor": 0,
  "metadata": {
    "colab": {
      "name": "Data_Downloading_&_Chunking.ipynb",
      "provenance": [],
      "collapsed_sections": []
    },
    "kernelspec": {
      "name": "python3",
      "display_name": "Python 3"
    }
  },
  "cells": [
    {
      "cell_type": "code",
      "metadata": {
        "id": "GoH747HiY4qf",
        "colab_type": "code",
        "outputId": "596fe54b-fdc6-4cec-994b-23258152daeb",
        "colab": {
          "base_uri": "https://localhost:8080/",
          "height": 193
        }
      },
      "source": [
        "pip install python_speech_features"
      ],
      "execution_count": 2,
      "outputs": [
        {
          "output_type": "stream",
          "text": [
            "Collecting python_speech_features\n",
            "  Downloading https://files.pythonhosted.org/packages/ff/d1/94c59e20a2631985fbd2124c45177abaa9e0a4eee8ba8a305aa26fc02a8e/python_speech_features-0.6.tar.gz\n",
            "Building wheels for collected packages: python-speech-features\n",
            "  Building wheel for python-speech-features (setup.py) ... \u001b[?25l\u001b[?25hdone\n",
            "  Created wheel for python-speech-features: filename=python_speech_features-0.6-cp36-none-any.whl size=5887 sha256=a85b6e0deede42899d657ea4fb4291e3d4e27e02a31b07793d64c5a1b62c4f6c\n",
            "  Stored in directory: /root/.cache/pip/wheels/3c/42/7c/f60e9d1b40015cd69b213ad90f7c18a9264cd745b9888134be\n",
            "Successfully built python-speech-features\n",
            "Installing collected packages: python-speech-features\n",
            "Successfully installed python-speech-features-0.6\n"
          ],
          "name": "stdout"
        }
      ]
    },
    {
      "cell_type": "code",
      "metadata": {
        "id": "AOMJmmYVPKvt",
        "colab_type": "code",
        "colab": {
          "base_uri": "https://localhost:8080/",
          "height": 419
        },
        "outputId": "6db290c0-73c2-4719-c4a0-076ae83e06a6"
      },
      "source": [
        "!wget https://www.teachingenglish.org.uk/sites/teacheng/files/dia_1.mp3\n",
        "!wget https://www.teachingenglish.org.uk/sites/teacheng/files/dia_2.mp3"
      ],
      "execution_count": 3,
      "outputs": [
        {
          "output_type": "stream",
          "text": [
            "--2020-02-17 17:55:22--  https://www.teachingenglish.org.uk/sites/teacheng/files/dia_1.mp3\n",
            "Resolving www.teachingenglish.org.uk (www.teachingenglish.org.uk)... 151.101.0.65, 151.101.64.65, 151.101.128.65, ...\n",
            "Connecting to www.teachingenglish.org.uk (www.teachingenglish.org.uk)|151.101.0.65|:443... connected.\n",
            "HTTP request sent, awaiting response... 200 OK\n",
            "Length: 1004429 (981K) [audio/mpeg]\n",
            "Saving to: ‘dia_1.mp3’\n",
            "\n",
            "\rdia_1.mp3             0%[                    ]       0  --.-KB/s               \rdia_1.mp3           100%[===================>] 980.89K  --.-KB/s    in 0.1s    \n",
            "\n",
            "2020-02-17 17:55:23 (8.01 MB/s) - ‘dia_1.mp3’ saved [1004429/1004429]\n",
            "\n",
            "--2020-02-17 17:55:25--  https://www.teachingenglish.org.uk/sites/teacheng/files/dia_2.mp3\n",
            "Resolving www.teachingenglish.org.uk (www.teachingenglish.org.uk)... 151.101.0.65, 151.101.64.65, 151.101.128.65, ...\n",
            "Connecting to www.teachingenglish.org.uk (www.teachingenglish.org.uk)|151.101.0.65|:443... connected.\n",
            "HTTP request sent, awaiting response... 200 OK\n",
            "Length: 336083 (328K) [audio/mpeg]\n",
            "Saving to: ‘dia_2.mp3’\n",
            "\n",
            "dia_2.mp3           100%[===================>] 328.21K  --.-KB/s    in 0.06s   \n",
            "\n",
            "2020-02-17 17:55:25 (5.21 MB/s) - ‘dia_2.mp3’ saved [336083/336083]\n",
            "\n"
          ],
          "name": "stdout"
        }
      ]
    },
    {
      "cell_type": "code",
      "metadata": {
        "id": "2243X8H4D8bi",
        "colab_type": "code",
        "outputId": "a6df3279-8fcf-41df-dd29-c691c5c0aef5",
        "colab": {
          "base_uri": "https://localhost:8080/",
          "height": 141
        }
      },
      "source": [
        "!pip3 install --upgrade speechrecognition\n",
        "import speech_recognition as sr\n",
        "sr.__version__"
      ],
      "execution_count": 4,
      "outputs": [
        {
          "output_type": "stream",
          "text": [
            "Collecting speechrecognition\n",
            "\u001b[?25l  Downloading https://files.pythonhosted.org/packages/26/e1/7f5678cd94ec1234269d23756dbdaa4c8cfaed973412f88ae8adf7893a50/SpeechRecognition-3.8.1-py2.py3-none-any.whl (32.8MB)\n",
            "\u001b[K     |████████████████████████████████| 32.8MB 121kB/s \n",
            "\u001b[?25hInstalling collected packages: speechrecognition\n",
            "Successfully installed speechrecognition-3.8.1\n"
          ],
          "name": "stdout"
        },
        {
          "output_type": "execute_result",
          "data": {
            "text/plain": [
              "'3.8.1'"
            ]
          },
          "metadata": {
            "tags": []
          },
          "execution_count": 4
        }
      ]
    },
    {
      "cell_type": "code",
      "metadata": {
        "id": "toiDqhUoFdMX",
        "colab_type": "code",
        "outputId": "0d90bb47-59da-49b5-f251-ca103f73dbbe",
        "colab": {
          "base_uri": "https://localhost:8080/",
          "height": 107
        }
      },
      "source": [
        "pip install pydub"
      ],
      "execution_count": 5,
      "outputs": [
        {
          "output_type": "stream",
          "text": [
            "Collecting pydub\n",
            "  Downloading https://files.pythonhosted.org/packages/79/db/eaf620b73a1eec3c8c6f8f5b0b236a50f9da88ad57802154b7ba7664d0b8/pydub-0.23.1-py2.py3-none-any.whl\n",
            "Installing collected packages: pydub\n",
            "Successfully installed pydub-0.23.1\n"
          ],
          "name": "stdout"
        }
      ]
    },
    {
      "cell_type": "code",
      "metadata": {
        "id": "QeXQEnFnvXK5",
        "colab_type": "code",
        "colab": {}
      },
      "source": [
        "from os import path\n",
        "from pydub import AudioSegment"
      ],
      "execution_count": 0,
      "outputs": []
    },
    {
      "cell_type": "code",
      "metadata": {
        "id": "B9JdOcIvRxvE",
        "colab_type": "code",
        "outputId": "c5dc9a10-8f63-424f-eec5-f65cdc3dd728",
        "colab": {
          "base_uri": "https://localhost:8080/",
          "height": 35
        }
      },
      "source": [
        "#mp3 to wav converter code\n",
        "from os import path\n",
        "from pydub import AudioSegment\n",
        "\n",
        "# files                                                                         \n",
        "src = \"/content/dia_1.mp3\"   #filename \n",
        "dst = \"/content/A.wav\"\n",
        "\n",
        "# convert wav to mp3                                                            \n",
        "sound = AudioSegment.from_mp3(src)\n",
        "sound.export(dst, format=\"wav\")\n",
        "\n",
        "src = \"/content/dia_2.mp3\"\n",
        "dst = \"/content/B.wav\"\n",
        "\n",
        "# convert wav to mp3                                                            \n",
        "sound = AudioSegment.from_mp3(src)\n",
        "sound.export(dst, format=\"wav\")"
      ],
      "execution_count": 7,
      "outputs": [
        {
          "output_type": "execute_result",
          "data": {
            "text/plain": [
              "<_io.BufferedRandom name='/content/B.wav'>"
            ]
          },
          "metadata": {
            "tags": []
          },
          "execution_count": 7
        }
      ]
    },
    {
      "cell_type": "code",
      "metadata": {
        "id": "dR0LyXDdEK5E",
        "colab_type": "code",
        "outputId": "8b7d71c2-850e-4054-c40a-01ad8648d58a",
        "colab": {
          "base_uri": "https://localhost:8080/",
          "height": 243
        }
      },
      "source": [
        "# Import necessary libraries \n",
        "from pydub import AudioSegment \n",
        "import speech_recognition as sr \n",
        "\n",
        "# Input audio file to be sliced \n",
        "audio = AudioSegment.from_wav(\"/content/A.wav\") \n",
        "\n",
        "''' \n",
        "Step #1 - Slicing the audio file into smaller chunks. \n",
        "'''\n",
        "# Length of the audiofile in milliseconds \n",
        "n = len(audio) \n",
        "\n",
        "# Variable to count the number of sliced chunks \n",
        "counter = 1\n",
        "\n",
        "# Text file to write the recognized audio \n",
        "fh = open(\"recognized1.txt\", \"w+\") \n",
        "\n",
        "# Interval length at which to slice the audio file. \n",
        "# If length is 22 seconds, and interval is 5 seconds, \n",
        "# The chunks created will be: \n",
        "# chunk1 : 0 - 5 seconds \n",
        "# chunk2 : 5 - 10 seconds \n",
        "# chunk3 : 10 - 15 seconds \n",
        "# chunk4 : 15 - 20 seconds \n",
        "# chunk5 : 20 - 22 seconds \n",
        "interval = 5 * 1000\n",
        "\n",
        "# Length of audio to overlap. \n",
        "# If length is 22 seconds, and interval is 5 seconds, \n",
        "# With overlap as 1.5 seconds, \n",
        "# The chunks created will be: \n",
        "# chunk1 : 0 - 5 seconds \n",
        "# chunk2 : 3.5 - 8.5 seconds \n",
        "# chunk3 : 7 - 12 seconds \n",
        "# chunk4 : 10.5 - 15.5 seconds \n",
        "# chunk5 : 14 - 19.5 seconds \n",
        "# chunk6 : 18 - 22 seconds \n",
        "overlap = 1.5 * 0  #creating overlap equals to zero\n",
        "\n",
        "# Initialize start and end seconds to 0 \n",
        "start = 0\n",
        "end = 0\n",
        "\n",
        "# Flag to keep track of end of file. \n",
        "# When audio reaches its end, flag is set to 1 and we break \n",
        "flag = 0\n",
        "\n",
        "# Iterate from 0 to end of the file, \n",
        "# with increment = interval \n",
        "for i in range(0, 2 * n, interval): \n",
        "\t\n",
        "\t# During first iteration, \n",
        "\t# start is 0, end is the interval \n",
        "\tif i == 0: \n",
        "\t\tstart = 0\n",
        "\t\tend = interval \n",
        "\n",
        "\t# All other iterations, \n",
        "\t# start is the previous end - overlap \n",
        "\t# end becomes end + interval \n",
        "\telse: \n",
        "\t\tstart = end - overlap \n",
        "\t\tend = start + interval \n",
        "\n",
        "\t# When end becomes greater than the file length, \n",
        "\t# end is set to the file length \n",
        "\t# flag is set to 1 to indicate break. \n",
        "\tif end >= n: \n",
        "\t\tend = n \n",
        "\t\tflag = 1\n",
        "\n",
        "\t# Storing audio file from the defined start to end \n",
        "\tchunk = audio[start:end] \n",
        "\n",
        "\t# Filename / Path to store the sliced audio \n",
        "\tfilename = 'a'+str(counter)+'.wav'\n",
        "\n",
        "\t# Store the sliced audio file to the defined path \n",
        "\tchunk.export(filename, format =\"wav\") \n",
        "\t# Print information about the current chunk \n",
        "\tprint(\"Processing chunk \"+str(counter)+\". Start = \"\n",
        "\t\t\t\t\t\t+str(start)+\" end = \"+str(end)) \n",
        "\n",
        "\t# Increment counter for the next chunk \n",
        "\tcounter = counter + 1\n",
        "\t\n",
        "\t# Slicing of the audio file is done. \n",
        "\t# Skip the below steps if there is some other usage \n",
        "\t# for the sliced audio files. \n",
        "\n",
        "  #''' \n",
        "  #Step #2 - Recognizing the chunk and writing to a file. \n",
        "  #'''\n",
        "\n",
        "\t# Here, Google Speech Recognition is used \n",
        "\t# to take each chunk and recognize the text in it. \n",
        "\n",
        "\t# Specify the audio file to recognize \n",
        "\n",
        "\tAUDIO_FILE = filename \n",
        "\n",
        "\t# Initialize the recognizer \n",
        "\tr = sr.Recognizer() \n",
        "\n",
        "\t# Traverse the audio file and listen to the audio \n",
        "\twith sr.AudioFile(AUDIO_FILE) as source: \n",
        "\t\taudio_listened = r.listen(source) \n",
        "\n",
        "\t# Try to recognize the listened audio \n",
        "\t# And catch expections. \n",
        "\ttry:\t \n",
        "\t\trec = r.recognize_google(audio_listened) \n",
        "\t\t\n",
        "\t\t# If recognized, write into the file. \n",
        "\t\tfh.write(rec+\" \") \n",
        "\t\n",
        "\t# If google could not understand the audio \n",
        "\texcept sr.UnknownValueError: \n",
        "\t\tprint(\"Could not understand audio\") \n",
        "\n",
        "\t# If the results cannot be requested from Google. \n",
        "\t# Probably an internet connection error. \n",
        "\texcept sr.RequestError as e: \n",
        "\t\tprint(\"Could not request results.\") \n",
        "\n",
        "\t# Check for flag. \n",
        "\t# If flag is 1, end of the whole audio reached. \n",
        "\t# Close the file and break. \n",
        "\tif flag == 1: \n",
        "\t\tfh.close() \n",
        "\t\tbreak"
      ],
      "execution_count": 8,
      "outputs": [
        {
          "output_type": "stream",
          "text": [
            "Processing chunk 1. Start = 0 end = 5000\n",
            "Processing chunk 2. Start = 5000.0 end = 10000.0\n",
            "Processing chunk 3. Start = 10000.0 end = 15000.0\n",
            "Processing chunk 4. Start = 15000.0 end = 20000.0\n",
            "Processing chunk 5. Start = 20000.0 end = 25000.0\n",
            "Processing chunk 6. Start = 25000.0 end = 30000.0\n",
            "Processing chunk 7. Start = 30000.0 end = 35000.0\n",
            "Processing chunk 8. Start = 35000.0 end = 40000.0\n",
            "Processing chunk 9. Start = 40000.0 end = 45000.0\n",
            "Processing chunk 10. Start = 45000.0 end = 50000.0\n",
            "Processing chunk 11. Start = 50000.0 end = 55000.0\n",
            "Processing chunk 12. Start = 55000.0 end = 60000.0\n",
            "Processing chunk 13. Start = 60000.0 end = 62772\n"
          ],
          "name": "stdout"
        }
      ]
    },
    {
      "cell_type": "code",
      "metadata": {
        "colab_type": "code",
        "outputId": "36190355-4b0d-4e27-ee65-d1975aea0237",
        "id": "rSy0Z6K7TwML",
        "colab": {
          "base_uri": "https://localhost:8080/",
          "height": 104
        }
      },
      "source": [
        "# Import necessary libraries \n",
        "from pydub import AudioSegment \n",
        "import speech_recognition as sr \n",
        "\n",
        "# Input audio file to be sliced \n",
        "audio = AudioSegment.from_wav(\"/content/B.wav\") \n",
        "\n",
        "''' \n",
        "Step #1 - Slicing the audio file into smaller chunks. \n",
        "'''\n",
        "# Length of the audiofile in milliseconds \n",
        "n = len(audio) \n",
        "\n",
        "# Variable to count the number of sliced chunks \n",
        "counter = 1\n",
        "\n",
        "# Text file to write the recognized audio \n",
        "fh = open(\"recognized2.txt\", \"w+\") \n",
        "\n",
        "# Interval length at which to slice the audio file. \n",
        "# If length is 22 seconds, and interval is 5 seconds, \n",
        "# The chunks created will be: \n",
        "# chunk1 : 0 - 5 seconds \n",
        "# chunk2 : 5 - 10 seconds \n",
        "# chunk3 : 10 - 15 seconds \n",
        "# chunk4 : 15 - 20 seconds \n",
        "# chunk5 : 20 - 22 seconds \n",
        "interval = 5 * 1000 \n",
        "\n",
        "# Length of audio to overlap. \n",
        "# If length is 22 seconds, and interval is 5 seconds, \n",
        "# With overlap as 1.5 seconds, \n",
        "# The chunks created will be: \n",
        "# chunk1 : 0 - 5 seconds \n",
        "# chunk2 : 3.5 - 8.5 seconds \n",
        "# chunk3 : 7 - 12 seconds \n",
        "# chunk4 : 10.5 - 15.5 seconds \n",
        "# chunk5 : 14 - 19.5 seconds \n",
        "# chunk6 : 18 - 22 seconds \n",
        "overlap = 1.5 * 0 # KEEPING OVERLAP 0 HERE \n",
        "\n",
        "# Initialize start and end seconds to 0 \n",
        "start = 0\n",
        "end = 0\n",
        "\n",
        "# Flag to keep track of end of file. \n",
        "# When audio reaches its end, flag is set to 1 and we break \n",
        "flag = 0\n",
        "\n",
        "# Iterate from 0 to end of the file, \n",
        "# with increment = interval \n",
        "for i in range(0, 2 * n, interval): \n",
        "\t\n",
        "\t# During first iteration, \n",
        "\t# start is 0, end is the interval \n",
        "\tif i == 0: \n",
        "\t\tstart = 0\n",
        "\t\tend = interval \n",
        "\n",
        "\t# All other iterations, \n",
        "\t# start is the previous end - overlap \n",
        "\t# end becomes end + interval \n",
        "\telse: \n",
        "\t\tstart = end - overlap \n",
        "\t\tend = start + interval \n",
        "\n",
        "\t# When end becomes greater than the file length, \n",
        "\t# end is set to the file length \n",
        "\t# flag is set to 1 to indicate break. \n",
        "\tif end >= n: \n",
        "\t\tend = n \n",
        "\t\tflag = 1\n",
        "\n",
        "\t# Storing audio file from the defined start to end \n",
        "\tchunk = audio[start:end] \n",
        "\n",
        "\t# Filename / Path to store the sliced audio \n",
        "\tfilename = 'b'+str(counter)+'.wav'\n",
        "\n",
        "\t# Store the sliced audio file to the defined path \n",
        "\tchunk.export(filename, format =\"wav\") \n",
        "\t# Print information about the current chunk \n",
        "\tprint(\"Processing chunk \"+str(counter)+\". Start = \"\n",
        "\t\t\t\t\t\t+str(start)+\" end = \"+str(end)) \n",
        "\n",
        "\t# Increment counter for the next chunk \n",
        "\tcounter = counter + 1\n",
        "\t\n",
        "\t# Slicing of the audio file is done. \n",
        "\t# Skip the below steps if there is some other usage \n",
        "\t# for the sliced audio files. \n",
        "\n",
        "  #''' \n",
        "  #Step #2 - Recognizing the chunk and writing to a file. \n",
        "  #'''\n",
        "\n",
        "\t# Here, Google Speech Recognition is used \n",
        "\t# to take each chunk and recognize the text in it. \n",
        "\n",
        "\t# Specify the audio file to recognize \n",
        "\n",
        "\tAUDIO_FILE = filename \n",
        "\n",
        "\t# Initialize the recognizer \n",
        "\tr = sr.Recognizer() \n",
        "\n",
        "\t# Traverse the audio file and listen to the audio \n",
        "\twith sr.AudioFile(AUDIO_FILE) as source: \n",
        "\t\taudio_listened = r.listen(source) \n",
        "\n",
        "\t# Try to recognize the listened audio \n",
        "\t# And catch expections. \n",
        "\ttry:\t \n",
        "\t\trec = r.recognize_google(audio_listened) \n",
        "\t\t\n",
        "\t\t# If recognized, write into the file. \n",
        "\t\tfh.write(rec+\" \") \n",
        "\t\n",
        "\t# If google could not understand the audio \n",
        "\texcept sr.UnknownValueError: \n",
        "\t\tprint(\"Could not understand audio\") \n",
        "\n",
        "\t# If the results cannot be requested from Google. \n",
        "\t# Probably an internet connection error. \n",
        "\texcept sr.RequestError as e: \n",
        "\t\tprint(\"Could not request results.\") \n",
        "\n",
        "\t# Check for flag. \n",
        "\t# If flag is 1, end of the whole audio reached. \n",
        "\t# Close the file and break. \n",
        "\tif flag == 1: \n",
        "\t\tfh.close() \n",
        "\t\tbreak"
      ],
      "execution_count": 9,
      "outputs": [
        {
          "output_type": "stream",
          "text": [
            "Processing chunk 1. Start = 0 end = 5000\n",
            "Processing chunk 2. Start = 5000.0 end = 10000.0\n",
            "Processing chunk 3. Start = 10000.0 end = 15000.0\n",
            "Processing chunk 4. Start = 15000.0 end = 20000.0\n",
            "Processing chunk 5. Start = 20000.0 end = 20741\n"
          ],
          "name": "stdout"
        }
      ]
    }
  ]
}